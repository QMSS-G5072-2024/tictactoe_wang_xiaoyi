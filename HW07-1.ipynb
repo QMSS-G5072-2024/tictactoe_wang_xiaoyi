{
 "cells": [
  {
   "cell_type": "markdown",
   "metadata": {},
   "source": [
    "## HW07\n",
    "### Xiaoyi Wang"
   ]
  },
  {
   "cell_type": "markdown",
   "metadata": {},
   "source": [
    "https://test.pypi.org/project/tictactoe_xw3028/"
   ]
  },
  {
   "cell_type": "code",
   "execution_count": 1,
   "metadata": {},
   "outputs": [
    {
     "name": "stdout",
     "output_type": "stream",
     "text": [
      "Looking in indexes: https://test.pypi.org/simple/, https://pypi.org/simple\n",
      "Collecting tictactoe-xw3028\n",
      "  Downloading https://test-files.pythonhosted.org/packages/90/4f/98854a4654c2374b9e3dd503b5793b5bc2ebb253c5630b5b034a73ac900a/tictactoe_xw3028-0.1.1-py3-none-any.whl.metadata (1.1 kB)\n",
      "Collecting pandas<3.0,>=1.3 (from tictactoe-xw3028)\n",
      "  Downloading pandas-2.2.3-cp313-cp313-macosx_11_0_arm64.whl.metadata (89 kB)\n",
      "Collecting numpy>=1.26.0 (from pandas<3.0,>=1.3->tictactoe-xw3028)\n",
      "  Downloading numpy-2.1.2-cp313-cp313-macosx_14_0_arm64.whl.metadata (60 kB)\n",
      "Requirement already satisfied: python-dateutil>=2.8.2 in /opt/anaconda3/envs/py312_env/lib/python3.13/site-packages (from pandas<3.0,>=1.3->tictactoe-xw3028) (2.9.0)\n",
      "Collecting pytz>=2020.1 (from pandas<3.0,>=1.3->tictactoe-xw3028)\n",
      "  Using cached pytz-2024.2-py2.py3-none-any.whl.metadata (22 kB)\n",
      "Collecting tzdata>=2022.7 (from pandas<3.0,>=1.3->tictactoe-xw3028)\n",
      "  Using cached tzdata-2024.2-py2.py3-none-any.whl.metadata (1.4 kB)\n",
      "Requirement already satisfied: six>=1.5 in /opt/anaconda3/envs/py312_env/lib/python3.13/site-packages (from python-dateutil>=2.8.2->pandas<3.0,>=1.3->tictactoe-xw3028) (1.16.0)\n",
      "Downloading https://test-files.pythonhosted.org/packages/90/4f/98854a4654c2374b9e3dd503b5793b5bc2ebb253c5630b5b034a73ac900a/tictactoe_xw3028-0.1.1-py3-none-any.whl (3.3 kB)\n",
      "Downloading pandas-2.2.3-cp313-cp313-macosx_11_0_arm64.whl (11.3 MB)\n",
      "\u001b[2K   \u001b[90m━━━━━━━━━━━━━━━━━━━━━━━━━━━━━━━━━━━━━━━━\u001b[0m \u001b[32m11.3/11.3 MB\u001b[0m \u001b[31m51.8 MB/s\u001b[0m eta \u001b[36m0:00:00\u001b[0m \u001b[36m0:00:01\u001b[0m\n",
      "\u001b[?25hDownloading numpy-2.1.2-cp313-cp313-macosx_14_0_arm64.whl (5.1 MB)\n",
      "\u001b[2K   \u001b[90m━━━━━━━━━━━━━━━━━━━━━━━━━━━━━━━━━━━━━━━━\u001b[0m \u001b[32m5.1/5.1 MB\u001b[0m \u001b[31m56.2 MB/s\u001b[0m eta \u001b[36m0:00:00\u001b[0m\n",
      "\u001b[?25hUsing cached pytz-2024.2-py2.py3-none-any.whl (508 kB)\n",
      "Using cached tzdata-2024.2-py2.py3-none-any.whl (346 kB)\n",
      "Installing collected packages: pytz, tzdata, numpy, pandas, tictactoe-xw3028\n",
      "Successfully installed numpy-2.1.2 pandas-2.2.3 pytz-2024.2 tictactoe-xw3028-0.1.1 tzdata-2024.2\n"
     ]
    }
   ],
   "source": [
    "!pip install --index-url https://test.pypi.org/simple/ --extra-index-url https://pypi.org/simple tictactoe-xw3028"
   ]
  },
  {
   "cell_type": "code",
   "execution_count": 4,
   "metadata": {},
   "outputs": [],
   "source": [
    "\n",
    "from tictactoe_xw3028 import tictactoe_xw3028\n"
   ]
  },
  {
   "cell_type": "code",
   "execution_count": 5,
   "metadata": {},
   "outputs": [
    {
     "name": "stdout",
     "output_type": "stream",
     "text": [
      "['X', 'O', 'O']\n",
      "['O', 'X', ' ']\n",
      "[' ', ' ', 'X']\n",
      "The winner is: X\n"
     ]
    }
   ],
   "source": [
    "\n",
    "board = tictactoe_xw3028.initialize_board()\n",
    "\n",
    "tictactoe_xw3028.make_move(board, 0, 0, 'X')  \n",
    "tictactoe_xw3028.make_move(board, 1, 1, 'X')  \n",
    "tictactoe_xw3028.make_move(board, 2, 2, 'X')  \n",
    "\n",
    "tictactoe_xw3028.make_move(board, 0, 1, 'O')  \n",
    "tictactoe_xw3028.make_move(board, 0, 2, 'O')  \n",
    "tictactoe_xw3028.make_move(board, 1, 0, 'O')  \n",
    "\n",
    "for row in board:\n",
    "    print(row)\n",
    "\n",
    "\n",
    "winner = tictactoe_xw3028.check_winner(board)\n",
    "if winner:\n",
    "    print(f\"The winner is: {winner}\")\n",
    "else:\n",
    "    print(\"The game is still ongoing or it is a draw.\")\n"
   ]
  },
  {
   "cell_type": "code",
   "execution_count": 6,
   "metadata": {},
   "outputs": [
    {
     "name": "stdout",
     "output_type": "stream",
     "text": [
      "Help on module tictactoe_xw3028.tictactoe_xw3028 in tictactoe_xw3028:\n",
      "\n",
      "NAME\n",
      "    tictactoe_xw3028.tictactoe_xw3028\n",
      "\n",
      "FUNCTIONS\n",
      "    check_winner(board)\n",
      "        Checks the current board for a winner.\n",
      "\n",
      "        Parameters\n",
      "        ----------\n",
      "        board : list of list of str\n",
      "            The current game board.\n",
      "\n",
      "        Returns\n",
      "        -------\n",
      "        str or None\n",
      "            'X' or 'O' if there is a winner, 'Draw' if it's a draw, or None if the game is ongoing.\n",
      "\n",
      "    initialize_board()\n",
      "        Creates a 3x3 Tic-Tac-Toe board initialized with empty spaces.\n",
      "\n",
      "        Returns\n",
      "        -------\n",
      "        list of list of str\n",
      "            A 3x3 game board with all spaces initialized to ' ' (empty).\n",
      "\n",
      "    make_move(board, row, col, player)\n",
      "        Places the player's symbol ('X' or 'O') on the board at the specified position.\n",
      "\n",
      "        Parameters\n",
      "        ----------\n",
      "        board : list of list of str\n",
      "            The current game board.\n",
      "        row : int\n",
      "            The row index (0-based).\n",
      "        col : int\n",
      "            The column index (0-based).\n",
      "        player : str\n",
      "            The player's symbol ('X' or 'O').\n",
      "\n",
      "        Returns\n",
      "        -------\n",
      "        bool\n",
      "            True if the move was successful, False otherwise.\n",
      "\n",
      "    reset_game()\n",
      "        Resets the game by reinitializing the board.\n",
      "\n",
      "        Returns\n",
      "        -------\n",
      "        list of list of str\n",
      "            A new 3x3 game board with all spaces initialized to ' ' (empty).\n",
      "\n",
      "FILE\n",
      "    /opt/anaconda3/envs/py312_env/lib/python3.13/site-packages/tictactoe_xw3028/tictactoe_xw3028.py\n",
      "\n",
      "\n",
      "Help on function check_winner in module tictactoe_xw3028.tictactoe_xw3028:\n",
      "\n",
      "check_winner(board)\n",
      "    Checks the current board for a winner.\n",
      "\n",
      "    Parameters\n",
      "    ----------\n",
      "    board : list of list of str\n",
      "        The current game board.\n",
      "\n",
      "    Returns\n",
      "    -------\n",
      "    str or None\n",
      "        'X' or 'O' if there is a winner, 'Draw' if it's a draw, or None if the game is ongoing.\n",
      "\n"
     ]
    }
   ],
   "source": [
    "help(tictactoe_xw3028)\n",
    "\n",
    "help(tictactoe_xw3028.check_winner)\n"
   ]
  }
 ],
 "metadata": {
  "kernelspec": {
   "display_name": "Python 3",
   "language": "python",
   "name": "python3"
  },
  "language_info": {
   "codemirror_mode": {
    "name": "ipython",
    "version": 3
   },
   "file_extension": ".py",
   "mimetype": "text/x-python",
   "name": "python",
   "nbconvert_exporter": "python",
   "pygments_lexer": "ipython3",
   "version": "3.13.0"
  }
 },
 "nbformat": 4,
 "nbformat_minor": 2
}
